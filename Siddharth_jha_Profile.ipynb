{
 "cells": [
  {
   "cell_type": "code",
   "execution_count": null,
   "id": "b69f326d-ca16-48e7-9673-75fcb76eefc2",
   "metadata": {},
   "outputs": [],
   "source": [
    "# intro.py\n",
    "# Hey folks, this is Siddharth Jha, a MBA finance student fro IFMR-GSB, KREA UNIVERSITY\n",
    "# This is just an introduction to my profile on Github.\n",
    "# Thank you for your attention.\n",
    "\n",
    "import random\n",
    "\n",
    "def main():\n",
    "    # Basic info\n",
    "    name = \"Your Name\"\n",
    "    course = \"MBA in Finance\"\n",
    "    interests = [\"Portfolio Management\", \"Risk Analysis\", \"Private Equity\"]\n",
    "    skills = [\"Python\", \"Excel\", \"Financial Modeling\", \"Data Analysis\"]\n",
    "\n",
    "    # Little snippets of wisdom that keep me going\n",
    "    thoughts = [\n",
    "        \"Risk comes from not knowing what you’re doing. – Warren Buffett\",\n",
    "        \"In investing, what is comfortable is rarely profitable. – Robert Arnott\",\n",
    "        \"Finance isn't just about money. It's about reaching real goals.\",\n",
    "        \"When it rains gold, put out the bucket. – Warren Buffett\"\n",
    "    ]\n",
    "\n",
    "    print(\"=== Hello, GitHub ===\")\n",
    "    print(f\"My name is {name}, and I'm currently pursuing {course}.\\n\")\n",
    "\n",
    "    print(\">> Interests I'm diving into:\")\n",
    "    for interest in interests:\n",
    "        print(f\" - {interest}\")\n",
    "\n",
    "    print(\"\\n>> Tools and skills I'm building:\")\n",
    "    for skill in skills:\n",
    "        print(f\" - {skill}\")\n",
    "\n",
    "    print(\"\\n>> Some projects I’ve worked on:\")\n",
    "    print(\" - Capsim Business Simulation\")\n",
    "    print(\" - Finlatics Portfolio Management\")\n",
    "    print(\" - Financial Modeling (Tata Motors)\")\n",
    "    print(\" - Market Research (Zudio - Trent Ltd)\")\n",
    "\n",
    "    print(\"\\n>> Long-term direction:\")\n",
    "    print(\"I'm aiming for roles in portfolio management, risk, or risk analytics — combining analytics with real-world decisions.\")\n",
    "\n",
    "    print(\"\\n>> Something that resonates with me:\")\n",
    "    print(f\"“{random.choice(thoughts)}”\")\n",
    "\n",
    "    print(\"\\nThanks for stopping by. More to come soon!!\")\n",
    "\n",
    "if __name__ == \"__main__\":\n",
    "    main()\n"
   ]
  }
 ],
 "metadata": {
  "kernelspec": {
   "display_name": "Python 3 (ipykernel)",
   "language": "python",
   "name": "python3"
  },
  "language_info": {
   "codemirror_mode": {
    "name": "ipython",
    "version": 3
   },
   "file_extension": ".py",
   "mimetype": "text/x-python",
   "name": "python",
   "nbconvert_exporter": "python",
   "pygments_lexer": "ipython3",
   "version": "3.12.4"
  }
 },
 "nbformat": 4,
 "nbformat_minor": 5
}
